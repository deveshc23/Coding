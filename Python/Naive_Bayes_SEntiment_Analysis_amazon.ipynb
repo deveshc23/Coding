{
 "cells": [
  {
   "cell_type": "code",
   "execution_count": 8,
   "metadata": {},
   "outputs": [],
   "source": [
    "import pandas as pd\n",
    "from sklearn.model_selection import train_test_split\n",
    "from sklearn.feature_extraction.text import TfidfVectorizer\n",
    "from sklearn.naive_bayes import MultinomialNB\n",
    "from sklearn.metrics import accuracy_score\n",
    "import numpy as np"
   ]
  },
  {
   "cell_type": "code",
   "execution_count": 3,
   "metadata": {},
   "outputs": [
    {
     "name": "stdout",
     "output_type": "stream",
     "text": [
      "     Unnamed: 0       reviewerName  ...  score_average_rating wilson_lower_bound\n",
      "125         125  Alexander Stevens  ...              0.666667            0.20766\n",
      "\n",
      "[1 rows x 12 columns]\n"
     ]
    }
   ],
   "source": [
    "df=pd.read_csv('amazon_reviews.csv')\n",
    "# To remove all rows which either have the overall rating missing or the review Text missing\n",
    "missing_values=df[df[['overall','reviewText']].isnull().any(axis=1)]\n",
    "print(missing_values)\n",
    "df=df.dropna(subset=['reviewText','overall'])\n",
    "\n",
    "# To remove all the rows which have a rating of 3 stars as they are neutral reviews\n",
    "df = df[df['overall'] != 3]\n",
    "df['sentiment']=df['overall'].apply(lambda x: 1 if x>3 else 0)\n",
    "X=df['reviewText']\n",
    "y=df['sentiment']\n",
    "X_train,X_test,y_train,y_test=train_test_split(X,y,test_size=0.3,random_state=42)"
   ]
  },
  {
   "cell_type": "code",
   "execution_count": null,
   "metadata": {},
   "outputs": [],
   "source": [
    "vectorizer=TfidfVectorizer(stop_words='english')\n",
    "X_train=vectorizer.fit_transform(X_train)\n",
    "X_test=vectorizer.transform(X_test)\n",
    "#Feature Extraction"
   ]
  },
  {
   "cell_type": "code",
   "execution_count": 6,
   "metadata": {},
   "outputs": [
    {
     "name": "stdout",
     "output_type": "stream",
     "text": [
      "Accuracy:  0.9252793296089385\n"
     ]
    }
   ],
   "source": [
    "c=MultinomialNB()\n",
    "c.fit(X_train,y_train)\n",
    "\n",
    "y_pred=c.predict(X_test)\n",
    "accuracy=accuracy_score(y_test,y_pred)\n",
    "print(\"Accuracy: \",accuracy)\n"
   ]
  },
  {
   "cell_type": "code",
   "execution_count": 10,
   "metadata": {},
   "outputs": [
    {
     "name": "stdout",
     "output_type": "stream",
     "text": [
      "Precision:  0.9252793296089385\n",
      "Recall:  1.0\n",
      "F1 Score:  0.961189698948132\n",
      "Accuracy:  0.9252793296089385\n"
     ]
    }
   ],
   "source": [
    "y_test_array=y_test.to_numpy()\n",
    "y_pred=np.array(y_pred)\n",
    "#True positive\n",
    "TP=np.sum((y_test_array==1) & (y_pred==1))\n",
    "#True negative\n",
    "TN=np.sum((y_test_array==0) & (y_pred==0))\n",
    "#False positive\n",
    "FP=np.sum((y_test_array==0) & (y_pred==1))\n",
    "#False negative\n",
    "FN=np.sum((y_test_array==1) & (y_pred==0))\n",
    "#Correctly classified\n",
    "Correct=TP+FN\n",
    "Precision=TP/(TP+FP)\n",
    "Recall=TP/(TP+FN)\n",
    "F1=2*((Precision*Recall)/(Precision+Recall))\n",
    "Accuracy=Correct/(TP+TN+FP+FN)\n",
    "print(\"Precision: \",Precision)\n",
    "print(\"Recall: \",Recall)\n",
    "print(\"F1 Score: \",F1)\n",
    "print(\"Accuracy: \",Accuracy)"
   ]
  }
 ],
 "metadata": {
  "kernelspec": {
   "display_name": "Python 3",
   "language": "python",
   "name": "python3"
  },
  "language_info": {
   "codemirror_mode": {
    "name": "ipython",
    "version": 3
   },
   "file_extension": ".py",
   "mimetype": "text/x-python",
   "name": "python",
   "nbconvert_exporter": "python",
   "pygments_lexer": "ipython3",
   "version": "3.12.6"
  }
 },
 "nbformat": 4,
 "nbformat_minor": 2
}
